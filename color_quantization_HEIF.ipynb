{
 "cells": [
  {
   "cell_type": "markdown",
   "id": "e1d9d18c",
   "metadata": {},
   "source": [
    "# Color Quantization\n",
    "\n",
    "exploring images with OpenCV (Open Source Computer Vision) library\n",
    "\n",
    "challenge: working with HEIF image files"
   ]
  },
  {
   "cell_type": "code",
   "execution_count": 1,
   "id": "7564567c",
   "metadata": {},
   "outputs": [],
   "source": [
    "import cv2\n",
    "import numpy as np\n",
    "import matplotlib.pyplot as plt"
   ]
  },
  {
   "cell_type": "code",
   "execution_count": 9,
   "id": "8df56bf2",
   "metadata": {},
   "outputs": [
    {
     "name": "stdout",
     "output_type": "stream",
     "text": [
      "\u001b[33mWARNING: Retrying (Retry(total=4, connect=None, read=None, redirect=None, status=None)) after connection broken by 'NewConnectionError('<pip._vendor.urllib3.connection.HTTPSConnection object at 0x7fdcd04f1c00>: Failed to establish a new connection: [Errno 8] nodename nor servname provided, or not known')': /simple/pillow-heif/\u001b[0m\u001b[33m\n",
      "\u001b[0m\u001b[33mWARNING: Retrying (Retry(total=3, connect=None, read=None, redirect=None, status=None)) after connection broken by 'NewConnectionError('<pip._vendor.urllib3.connection.HTTPSConnection object at 0x7fdcd04f2b60>: Failed to establish a new connection: [Errno 8] nodename nor servname provided, or not known')': /simple/pillow-heif/\u001b[0m\u001b[33m\n",
      "\u001b[0m\u001b[33mWARNING: Retrying (Retry(total=2, connect=None, read=None, redirect=None, status=None)) after connection broken by 'NewConnectionError('<pip._vendor.urllib3.connection.HTTPSConnection object at 0x7fdcd04f2e00>: Failed to establish a new connection: [Errno 8] nodename nor servname provided, or not known')': /simple/pillow-heif/\u001b[0m\u001b[33m\n",
      "\u001b[0m\u001b[33mWARNING: Retrying (Retry(total=1, connect=None, read=None, redirect=None, status=None)) after connection broken by 'NewConnectionError('<pip._vendor.urllib3.connection.HTTPSConnection object at 0x7fdcd04f2fb0>: Failed to establish a new connection: [Errno 8] nodename nor servname provided, or not known')': /simple/pillow-heif/\u001b[0m\u001b[33m\n",
      "\u001b[0m\u001b[33mWARNING: Retrying (Retry(total=0, connect=None, read=None, redirect=None, status=None)) after connection broken by 'NewConnectionError('<pip._vendor.urllib3.connection.HTTPSConnection object at 0x7fdcd04f3160>: Failed to establish a new connection: [Errno 8] nodename nor servname provided, or not known')': /simple/pillow-heif/\u001b[0m\u001b[33m\n",
      "\u001b[0m\u001b[31mERROR: Could not find a version that satisfies the requirement pillow_heif (from versions: none)\u001b[0m\u001b[31m\n",
      "\u001b[0m\u001b[31mERROR: No matching distribution found for pillow_heif\u001b[0m\u001b[31m\n",
      "\u001b[0m\u001b[33mWARNING: There was an error checking the latest version of pip.\u001b[0m\u001b[33m\n",
      "\u001b[0myes: stdout: Broken pipe\n"
     ]
    }
   ],
   "source": [
    "# install pillow plugin pillow-heif quietly\n",
    "# to work with HEIC files stored in icloud photos library\n",
    "# # !conda install -y pillow-heif  # fails as not found; upon inspections, I found this reputable plug is not hosted anywhere in anaconda\n",
    "# install using pip only when not available with conda\n",
    "# specifying 'i' to choose default behaviour when multiple choices exist \n",
    "!yes | pip install pillow-heif --quiet --exists-action i"
   ]
  },
  {
   "cell_type": "code",
   "execution_count": null,
   "id": "f0081bc3",
   "metadata": {},
   "outputs": [],
   "source": [
    "# read image as a numpy array\n",
    "img_arr = img.imread('/content/sample_image.jpg')\n",
    "print(img_arr.shape)"
   ]
  }
 ],
 "metadata": {
  "kernelspec": {
   "display_name": "color_env",
   "language": "python",
   "name": "color_env"
  },
  "language_info": {
   "codemirror_mode": {
    "name": "ipython",
    "version": 3
   },
   "file_extension": ".py",
   "mimetype": "text/x-python",
   "name": "python",
   "nbconvert_exporter": "python",
   "pygments_lexer": "ipython3",
   "version": "3.10.9"
  }
 },
 "nbformat": 4,
 "nbformat_minor": 5
}
