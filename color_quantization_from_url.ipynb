{
 "cells": [
  {
   "cell_type": "markdown",
   "id": "e1d9d18c",
   "metadata": {},
   "source": [
    "# Color Quantization\n",
    "\n",
    "exploring images with OpenCV (Open Source Computer Vision) library\n",
    "\n",
    "__challenge:__ working with images from a RESTful JSON API</br>\n",
    "<a href=\"https://www.pexels.com\">Photos provided by Pexels</a>\n",
    "\n",
    "#### references: \n",
    "https://www.pexels.com/api/documentation</br>\n",
    "https://github.com/AguilarLagunasArturo/pexels-api</br>\n",
    "https://docs.opencv.org/3.4/d1/d5c/tutorial_py_kmeans_opencv.html</br>"
   ]
  },
  {
   "cell_type": "markdown",
   "id": "64444f0c",
   "metadata": {},
   "source": [
    "## First get some images\n",
    "\n",
    "For the purposes of comparing image colors, you'll search a free image repository for photos matching two different kinds of music, pop music and punk! \n",
    "\n",
    "Purely for research purposes, this decision is based on a hypothesis that punk music photos would contain more dark (and neon?) colors, and of course who doesn't have a soft spot for the pinks or happy colors associated with so called pop music?! I will admit that popular is a pretty vague term, but you are just experimenting."
   ]
  },
  {
   "cell_type": "code",
   "execution_count": 1,
   "id": "0a948e90",
   "metadata": {},
   "outputs": [],
   "source": [
    "# # install Pexels API v1 with Python once only, with pip because it's not hosted on anaconda, and quietly in the notebook\n",
    "# !pip install pexels-api --quiet"
   ]
  },
  {
   "cell_type": "code",
   "execution_count": 2,
   "id": "82f95e37",
   "metadata": {},
   "outputs": [
    {
     "name": "stdout",
     "output_type": "stream",
     "text": [
      "MY_KEY = kPu1pIMFXQdQun0Q9bqhzV3aKidiWZk40VjyBk0obCBeaHQVSOtvxGrn\r\n",
      "CLOUD_KEY = 635838363772573\r\n",
      "CLOUD_SECRET = b0okpKNp9T3WGZSC1q3eFO0rD4M\r\n"
     ]
    }
   ],
   "source": [
    "# optionally, check that your environment variable(s) are active with the env\n",
    "!conda env config vars list"
   ]
  },
  {
   "cell_type": "code",
   "execution_count": 3,
   "id": "7564567c",
   "metadata": {},
   "outputs": [],
   "source": [
    "import os  # standard Python module for operating system-based tasks like working with file paths\n",
    "import cv2  # OpenCV computer vision library used for data clustering, i.e., measuring similarities within color spaces\n",
    "import numpy as np  # for working with images as numerical arrays\n",
    "import matplotlib.pyplot as plt  # used to plot or display image data in cartesian 2D space\n",
    "from urllib.request import urlopen  # for opening URLs\n"
   ]
  },
  {
   "cell_type": "code",
   "execution_count": 4,
   "id": "0c2f0152",
   "metadata": {},
   "outputs": [],
   "source": [
    "from pexels_api import API  # import API class from pexels_api package\n",
    "# load your Pexels API key from a conda variable stored with the activated conda environment\n",
    "PEXELS_API_KEY = os.environ[\"MY_KEY\"]\n",
    "# Create API object\n",
    "api = API(PEXELS_API_KEY)"
   ]
  },
  {
   "cell_type": "code",
   "execution_count": 5,
   "id": "5fe4b127",
   "metadata": {},
   "outputs": [
    {
     "name": "stdout",
     "output_type": "stream",
     "text": [
      "Photographer:  William Matt\n",
      "Photo url:  https://www.pexels.com/photo/funky-skull-graffiti-on-locked-roll-down-black-door-953457/\n",
      "Photo original size:  https://images.pexels.com/photos/953457/pexels-photo-953457.jpeg\n",
      "Photographer:  Clem Onojeghuo\n",
      "Photo url:  https://www.pexels.com/photo/man-sitting-on-guitar-amplifier-playing-electric-guitar-375893/\n",
      "Photo original size:  https://images.pexels.com/photos/375893/pexels-photo-375893.jpeg\n",
      "Photographer:  Darya Sannikova\n",
      "Photo url:  https://www.pexels.com/photo/photo-of-woman-sitting-on-stairs-1989836/\n",
      "Photo original size:  https://images.pexels.com/photos/1989836/pexels-photo-1989836.jpeg\n",
      "Photographer:  Cheef\n",
      "Photo url:  https://www.pexels.com/photo/man-covering-his-mouth-2080736/\n",
      "Photo original size:  https://images.pexels.com/photos/2080736/pexels-photo-2080736.jpeg\n",
      "Photographer:  Jaime Rivera\n",
      "Photo url:  https://www.pexels.com/photo/woman-in-black-leather-jacket-3598252/\n",
      "Photo original size:  https://images.pexels.com/photos/3598252/pexels-photo-3598252.jpeg\n"
     ]
    }
   ],
   "source": [
    "# search five 'punk' photos\n",
    "api.search('punk', page=1, results_per_page=5)\n",
    "# get photo entries (a list of photo objects)\n",
    "photos_punk = api.get_entries()\n",
    "# loop the five photos\n",
    "for photo in photos_punk:\n",
    "  # print photographer\n",
    "  print('Photographer: ', photo.photographer)\n",
    "  # print url\n",
    "  print('Photo url: ', photo.url)\n",
    "  # print original size url\n",
    "  print('Photo original size: ', photo.original)"
   ]
  },
  {
   "cell_type": "code",
   "execution_count": 6,
   "id": "5ff57261",
   "metadata": {},
   "outputs": [
    {
     "name": "stdout",
     "output_type": "stream",
     "text": [
      "Photographer:  Jacob Morch\n",
      "Photo url:  https://www.pexels.com/photo/people-inside-dark-room-with-spotlights-426976/\n",
      "Photo original size:  https://images.pexels.com/photos/426976/pexels-photo-426976.jpeg\n",
      "Photographer:  mali maeder\n",
      "Photo url:  https://www.pexels.com/photo/man-playing-pioneer-dj-turntable-219101/\n",
      "Photo original size:  https://images.pexels.com/photos/219101/pexels-photo-219101.jpeg\n",
      "Photographer:  Edward Eyer\n",
      "Photo url:  https://www.pexels.com/photo/man-playing-guitar-811838/\n",
      "Photo original size:  https://images.pexels.com/photos/811838/pexels-photo-811838.jpeg\n",
      "Photographer:  Hannah Gibbs\n",
      "Photo url:  https://www.pexels.com/photo/photo-of-man-holding-microphone-949274/\n",
      "Photo original size:  https://images.pexels.com/photos/949274/pexels-photo-949274.jpeg\n",
      "Photographer:  Lucas Allmann\n",
      "Photo url:  https://www.pexels.com/photo/people-performing-on-stage-442540/\n",
      "Photo original size:  https://images.pexels.com/photos/442540/pexels-photo-442540.jpeg\n"
     ]
    }
   ],
   "source": [
    "# search five 'pop' photos; explicitly include 'music' to avoid bubbles and other images that 'pop'\n",
    "api.search('pop music', page=1, results_per_page=5)\n",
    "# get photo entries (a list of photo objects)\n",
    "photos_pop = api.get_entries()\n",
    "# loop the five photos\n",
    "for photo in photos_pop:\n",
    "  # print photographer\n",
    "  print('Photographer: ', photo.photographer)\n",
    "  # print url\n",
    "  print('Photo url: ', photo.url)\n",
    "  # print original size url\n",
    "  print('Photo original size: ', photo.original)"
   ]
  },
  {
   "cell_type": "markdown",
   "id": "0fa05afd",
   "metadata": {},
   "source": [
    "#### Skip these next few cells if you want; warning just practice ahead"
   ]
  },
  {
   "cell_type": "code",
   "execution_count": 7,
   "id": "d5a6c93b",
   "metadata": {},
   "outputs": [
    {
     "data": {
      "text/plain": [
       "[<pexels_api.tools.photo.Photo at 0x7fe620270fa0>,\n",
       " <pexels_api.tools.photo.Photo at 0x7fe620271a80>,\n",
       " <pexels_api.tools.photo.Photo at 0x7fe620270f40>,\n",
       " <pexels_api.tools.photo.Photo at 0x7fe620271a50>,\n",
       " <pexels_api.tools.photo.Photo at 0x7fe6202711e0>]"
      ]
     },
     "execution_count": 7,
     "metadata": {},
     "output_type": "execute_result"
    }
   ],
   "source": [
    "# optionally, peek the array of photo objects returned from Pexels API (just to inspect what's happening)\n",
    "photos_punk  # or peek at photos_pop\n"
   ]
  },
  {
   "cell_type": "code",
   "execution_count": 8,
   "id": "8451a0cc",
   "metadata": {},
   "outputs": [
    {
     "name": "stdout",
     "output_type": "stream",
     "text": [
      "<class 'list'>\n"
     ]
    }
   ],
   "source": [
    "# optionally, print its class; never a bad idea to be sure you know what you're working with\n",
    "print(type(photos_punk))"
   ]
  },
  {
   "cell_type": "code",
   "execution_count": 9,
   "id": "916f25dd",
   "metadata": {},
   "outputs": [
    {
     "name": "stdout",
     "output_type": "stream",
     "text": [
      "0 <pexels_api.tools.photo.Photo object at 0x7fe620270fa0>\n",
      "1 <pexels_api.tools.photo.Photo object at 0x7fe620271a80>\n",
      "2 <pexels_api.tools.photo.Photo object at 0x7fe620270f40>\n",
      "3 <pexels_api.tools.photo.Photo object at 0x7fe620271a50>\n",
      "4 <pexels_api.tools.photo.Photo object at 0x7fe6202711e0>\n"
     ]
    }
   ],
   "source": [
    "# just to dissect this more, use enumerate() to iterate over the list and show its index and objects explicitly\n",
    "for index , item in enumerate(photos_punk):\n",
    "    print(index,item)"
   ]
  },
  {
   "cell_type": "code",
   "execution_count": 10,
   "id": "1447877f",
   "metadata": {},
   "outputs": [
    {
     "name": "stdout",
     "output_type": "stream",
     "text": [
      "[[0, <pexels_api.tools.photo.Photo object at 0x7fe620270fa0>], [1, <pexels_api.tools.photo.Photo object at 0x7fe620271a80>], [2, <pexels_api.tools.photo.Photo object at 0x7fe620270f40>], [3, <pexels_api.tools.photo.Photo object at 0x7fe620271a50>], [4, <pexels_api.tools.photo.Photo object at 0x7fe6202711e0>]]\n"
     ]
    }
   ],
   "source": [
    "# list comprehension for no reason but practicing python and remembering how lists behave\n",
    "print([list((i, photos_punk[i])) for i in range(len(photos_punk))])"
   ]
  },
  {
   "cell_type": "markdown",
   "id": "20139b4e",
   "metadata": {},
   "source": [
    "## Okay, now download the images\n",
    "\n",
    "So photo objects are not so useful until we can _see_ them! \n",
    "\n",
    "If you try to read Pexel images from URL directly to an image using urllib, you will get a 403 forbidden error. I'm guessing that Pexels has forbidden hotlinking directly to its images (although it's not stated in their terms), as this can be a heavy draw on its server. Else, I'm stuck for some other reason.</br>\n",
    "\n",
    "So, downloading is one way to go from here. (I'd love to hear about alternatives!)"
   ]
  },
  {
   "cell_type": "code",
   "execution_count": 11,
   "id": "d528b5ec",
   "metadata": {},
   "outputs": [],
   "source": [
    "# commented out as returning HTTPError: HTTP Error 403: Forbidden\n",
    "# # make a function to read an image from its url\n",
    "# def url_to_image(url, readFlag=cv2.IMREAD_COLOR):\n",
    "#     # download the image, convert it to a NumPy array, and then\n",
    "#     # read it into OpenCV format (i.e., decode it)\n",
    "#     resp = urlopen(url)  # open a connection to the url\n",
    "#     image = np.asarray(bytearray(resp.read()), dtype=\"uint8\")  # convert the raw byte-sequence to a one-dimensional NumPy array, i.e., a long list of pixels\n",
    "#     image = cv2.imdecode(image, readFlag)  # reshape the array into a 2D format, assuming 3 components per pixel (Red, Green, and Blue components)\n",
    "\n",
    "#     # return the image\n",
    "#     return image\n",
    "\n",
    "# # loop the five photos\n",
    "# for photo in photos_punk:\n",
    "#     # download the image from its original size URL and display it\n",
    "# #     print(\"downloading %s\" % (photo.original))\n",
    "# #     image = url_to_image(photo.original)  # returns HTTPError: HTTP Error 403: Forbidden\n",
    "#     print(\"downloading %s\" % (photo.url))\n",
    "#     image = url_to_image(photo.url)\n",
    "#     cv2.imshow(\"Image\", image)\n",
    "#     cv2.waitKey(0)"
   ]
  },
  {
   "cell_type": "markdown",
   "id": "f58e310d",
   "metadata": {},
   "source": [
    "### Enter Cloudinary or your favorite media hosting service\n",
    "\n",
    "I recommend downloading cloudinary with pip as I checked and conda did have a version but it was behind pip's so better to be up to date to capture any bug and security fixes.\n",
    "https://pypi.org/project/cloudinary/<br>\n",
    "\n",
    "You can visit [cloudinary.com](https://cloudinary.com/) to get started for free and get code chunks in python and many other languages also."
   ]
  },
  {
   "cell_type": "code",
   "execution_count": 12,
   "id": "9a0c0e89",
   "metadata": {},
   "outputs": [],
   "source": [
    "# install cloudinary just once, quiet in the notebook\n",
    "!pip install cloudinary --quiet"
   ]
  },
  {
   "cell_type": "code",
   "execution_count": 15,
   "id": "946e5161",
   "metadata": {},
   "outputs": [
    {
     "ename": "NameError",
     "evalue": "name 'asset' is not defined",
     "output_type": "error",
     "traceback": [
      "\u001b[0;31m---------------------------------------------------------------------------\u001b[0m",
      "\u001b[0;31mNameError\u001b[0m                                 Traceback (most recent call last)",
      "Cell \u001b[0;32mIn[15], line 23\u001b[0m\n\u001b[1;32m     21\u001b[0m \u001b[38;5;66;03m# Transform\u001b[39;00m\n\u001b[1;32m     22\u001b[0m url, options \u001b[38;5;241m=\u001b[39m cloudinary_url(\u001b[38;5;124m\"\u001b[39m\u001b[38;5;124mpeople-inside-dark-room-with-spotlights-426976\u001b[39m\u001b[38;5;124m\"\u001b[39m, width\u001b[38;5;241m=\u001b[39m\u001b[38;5;241m100\u001b[39m, height\u001b[38;5;241m=\u001b[39m\u001b[38;5;241m150\u001b[39m, crop\u001b[38;5;241m=\u001b[39m\u001b[38;5;124m\"\u001b[39m\u001b[38;5;124mfill\u001b[39m\u001b[38;5;124m\"\u001b[39m)\n\u001b[0;32m---> 23\u001b[0m \u001b[43masset\u001b[49m\n",
      "\u001b[0;31mNameError\u001b[0m: name 'asset' is not defined"
     ]
    }
   ],
   "source": [
    "# get conda environment variables\n",
    "CLOUDINARY_API_KEY = os.environ[\"CLOUD_KEY\"]\n",
    "CLOUDINARY_API_SECREY = os.environ[\"CLOUD_SECRET\"]\n",
    "\n",
    "# Import cloudinary\n",
    "from cloudinary.uploader import upload\n",
    "from cloudinary.utils import cloudinary_url\n",
    "import cloudinary  # added to resolve NameError: name 'cloudinary' is not defined on cloudinary.config()\n",
    "\n",
    "# Config\n",
    "cloudinary.config(\n",
    "  cloud_name = \"dtartuanr\",  # if you copy code directly from cloudinary.com this should appear as your username (or replace it manually)\n",
    "  api_key = CLOUDINARY_API_KEY,\n",
    "  api_secret = CLOUDINARY_API_SECREY,\n",
    "  secure = True\n",
    ")\n",
    "\n",
    "# Upload a test\n",
    "upload(\"https://images.pexels.com/photos/426976/pexels-photo-426976.jpeg\", public_id=\"people-inside-dark-room-with-spotlights-426976\")\n",
    "\n",
    "# Transform\n",
    "url, options = cloudinary_url(\"people-inside-dark-room-with-spotlights-426976\", width=100, height=150, crop=\"fill\")\n",
    "asset  # returning NameError: name 'asset' is not defined\n"
   ]
  },
  {
   "cell_type": "markdown",
   "id": "20112863",
   "metadata": {},
   "source": [
    "## Scratch area for reference code"
   ]
  },
  {
   "cell_type": "code",
   "execution_count": null,
   "id": "f0081bc3",
   "metadata": {},
   "outputs": [],
   "source": [
    "# # read image as a numpy array from file path\n",
    "# img_arr = img.imread('/content/sample_image.jpg')\n",
    "# print(img_arr.shape)"
   ]
  }
 ],
 "metadata": {
  "kernelspec": {
   "display_name": "color_env",
   "language": "python",
   "name": "color_env"
  },
  "language_info": {
   "codemirror_mode": {
    "name": "ipython",
    "version": 3
   },
   "file_extension": ".py",
   "mimetype": "text/x-python",
   "name": "python",
   "nbconvert_exporter": "python",
   "pygments_lexer": "ipython3",
   "version": "3.10.9"
  }
 },
 "nbformat": 4,
 "nbformat_minor": 5
}
