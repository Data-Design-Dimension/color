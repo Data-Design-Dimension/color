{
 "cells": [
  {
   "cell_type": "markdown",
   "id": "e1d9d18c",
   "metadata": {},
   "source": [
    "# Color Quantization\n",
    "\n",
    "exploring images with OpenCV (Open Source Computer Vision) library\n",
    "\n",
    "__challenge:__ working with images from a RESTful JSON API</br>\n",
    "<a href=\"https://www.pexels.com\">Photos provided by Pexels</a>\n",
    "\n",
    "#### references: \n",
    "https://www.pexels.com/api/documentation</br>\n",
    "https://github.com/AguilarLagunasArturo/pexels-api</br>\n",
    "https://docs.opencv.org/3.4/d1/d5c/tutorial_py_kmeans_opencv.html</br>"
   ]
  },
  {
   "cell_type": "markdown",
   "id": "64444f0c",
   "metadata": {},
   "source": [
    "## First get some images\n",
    "\n",
    "For the purposes of comparing image colors, you'll search a free image repository for photos matching two different kinds of music, pop music and punk! \n",
    "\n",
    "Purely for research purposes, this decision is based on a hypothesis that punk music photos would contain more dark (and neon?) colors, and of course who doesn't have a soft spot for the pinks or happy colors associated with so called pop music?! I will admit that popular is a pretty vague term, but you are just experimenting."
   ]
  },
  {
   "cell_type": "code",
   "execution_count": 1,
   "id": "0a948e90",
   "metadata": {},
   "outputs": [],
   "source": [
    "# # install Pexels API v1 with Python once only, with pip because it's not hosted on anaconda, and quietly in the notebook\n",
    "# !pip install pexels-api --quiet"
   ]
  },
  {
   "cell_type": "code",
   "execution_count": 2,
   "id": "82f95e37",
   "metadata": {},
   "outputs": [],
   "source": [
    "# # # optionally, check that your environment variable(s) are active with the env. Don't push this output to a remote repository!\n",
    "# # !conda env config vars list"
   ]
  },
  {
   "cell_type": "code",
   "execution_count": 3,
   "id": "7564567c",
   "metadata": {},
   "outputs": [],
   "source": [
    "import os  # standard Python module for operating system-based tasks like working with file paths\n",
    "import cv2  # OpenCV computer vision library used for data clustering, i.e., measuring similarities within color spaces\n",
    "import numpy as np  # for working with images as numerical arrays\n",
    "import matplotlib.pyplot as plt  # used to plot or display image data in cartesian 2D space\n",
    "from urllib.request import urlopen  # for opening URLs\n"
   ]
  },
  {
   "cell_type": "code",
   "execution_count": 4,
   "id": "0c2f0152",
   "metadata": {},
   "outputs": [],
   "source": [
    "from pexels_api import API  # import API class from pexels_api package\n",
    "# load your Pexels API key from a conda variable stored with the activated conda environment\n",
    "PEXELS_API_KEY = os.environ[\"MY_KEY\"]\n",
    "# Create API object\n",
    "api = API(PEXELS_API_KEY)"
   ]
  },
  {
   "cell_type": "code",
   "execution_count": 5,
   "id": "5fe4b127",
   "metadata": {},
   "outputs": [
    {
     "name": "stdout",
     "output_type": "stream",
     "text": [
      "Photographer:  William Matt\n",
      "Photo url:  https://www.pexels.com/photo/funky-skull-graffiti-on-locked-roll-down-black-door-953457/\n",
      "Photo original size:  https://images.pexels.com/photos/953457/pexels-photo-953457.jpeg\n",
      "Photographer:  Clem Onojeghuo\n",
      "Photo url:  https://www.pexels.com/photo/man-sitting-on-guitar-amplifier-playing-electric-guitar-375893/\n",
      "Photo original size:  https://images.pexels.com/photos/375893/pexels-photo-375893.jpeg\n",
      "Photographer:  Darya Sannikova\n",
      "Photo url:  https://www.pexels.com/photo/photo-of-woman-sitting-on-stairs-1989836/\n",
      "Photo original size:  https://images.pexels.com/photos/1989836/pexels-photo-1989836.jpeg\n",
      "Photographer:  Cheef\n",
      "Photo url:  https://www.pexels.com/photo/man-covering-his-mouth-2080736/\n",
      "Photo original size:  https://images.pexels.com/photos/2080736/pexels-photo-2080736.jpeg\n",
      "Photographer:  Jaime Rivera\n",
      "Photo url:  https://www.pexels.com/photo/woman-in-black-leather-jacket-3598252/\n",
      "Photo original size:  https://images.pexels.com/photos/3598252/pexels-photo-3598252.jpeg\n"
     ]
    }
   ],
   "source": [
    "# search five 'punk' photos\n",
    "api.search('punk', page=1, results_per_page=5)\n",
    "# get photo entries (a list of photo objects)\n",
    "photos_punk = api.get_entries()\n",
    "# loop the five photos\n",
    "for photo in photos_punk:\n",
    "  # print photographer\n",
    "  print('Photographer: ', photo.photographer)\n",
    "  # print url\n",
    "  print('Photo url: ', photo.url)\n",
    "  # print original size url\n",
    "  print('Photo original size: ', photo.original)"
   ]
  },
  {
   "cell_type": "code",
   "execution_count": 6,
   "id": "5ff57261",
   "metadata": {},
   "outputs": [
    {
     "name": "stdout",
     "output_type": "stream",
     "text": [
      "Photographer:  Jacob Morch\n",
      "Photo url:  https://www.pexels.com/photo/people-inside-dark-room-with-spotlights-426976/\n",
      "Photo original size:  https://images.pexels.com/photos/426976/pexels-photo-426976.jpeg\n",
      "Photographer:  mali maeder\n",
      "Photo url:  https://www.pexels.com/photo/man-playing-pioneer-dj-turntable-219101/\n",
      "Photo original size:  https://images.pexels.com/photos/219101/pexels-photo-219101.jpeg\n",
      "Photographer:  Edward Eyer\n",
      "Photo url:  https://www.pexels.com/photo/man-playing-guitar-811838/\n",
      "Photo original size:  https://images.pexels.com/photos/811838/pexels-photo-811838.jpeg\n",
      "Photographer:  Hannah Gibbs\n",
      "Photo url:  https://www.pexels.com/photo/photo-of-man-holding-microphone-949274/\n",
      "Photo original size:  https://images.pexels.com/photos/949274/pexels-photo-949274.jpeg\n",
      "Photographer:  Lucas Allmann\n",
      "Photo url:  https://www.pexels.com/photo/people-performing-on-stage-442540/\n",
      "Photo original size:  https://images.pexels.com/photos/442540/pexels-photo-442540.jpeg\n"
     ]
    }
   ],
   "source": [
    "# search five 'pop' photos; explicitly include 'music' to avoid bubbles and other images that 'pop'\n",
    "api.search('pop music', page=1, results_per_page=5)\n",
    "# get photo entries (a list of photo objects)\n",
    "photos_pop = api.get_entries()\n",
    "# loop the five photos\n",
    "for photo in photos_pop:\n",
    "  # print photographer\n",
    "  print('Photographer: ', photo.photographer)\n",
    "  # print url\n",
    "  print('Photo url: ', photo.url)\n",
    "  # print original size url\n",
    "  print('Photo original size: ', photo.original)"
   ]
  },
  {
   "cell_type": "markdown",
   "id": "0fa05afd",
   "metadata": {},
   "source": [
    "#### Skip these next few cells if you want; warning just practice ahead"
   ]
  },
  {
   "cell_type": "code",
   "execution_count": 7,
   "id": "d5a6c93b",
   "metadata": {},
   "outputs": [
    {
     "data": {
      "text/plain": [
       "[<pexels_api.tools.photo.Photo at 0x7fcaf0725000>,\n",
       " <pexels_api.tools.photo.Photo at 0x7fcaf0725b10>,\n",
       " <pexels_api.tools.photo.Photo at 0x7fcaf0724eb0>,\n",
       " <pexels_api.tools.photo.Photo at 0x7fcaf0725ae0>,\n",
       " <pexels_api.tools.photo.Photo at 0x7fcaf0725240>]"
      ]
     },
     "execution_count": 7,
     "metadata": {},
     "output_type": "execute_result"
    }
   ],
   "source": [
    "# optionally, peek the array of photo objects returned from Pexels API (to inspect what's happening)\n",
    "photos_punk  # or peek at photos_pop\n"
   ]
  },
  {
   "cell_type": "code",
   "execution_count": 8,
   "id": "8451a0cc",
   "metadata": {},
   "outputs": [
    {
     "name": "stdout",
     "output_type": "stream",
     "text": [
      "<class 'list'>\n"
     ]
    }
   ],
   "source": [
    "# optionally, print its class; to know what you're working with\n",
    "print(type(photos_punk))"
   ]
  },
  {
   "cell_type": "code",
   "execution_count": 9,
   "id": "916f25dd",
   "metadata": {},
   "outputs": [
    {
     "name": "stdout",
     "output_type": "stream",
     "text": [
      "0 <pexels_api.tools.photo.Photo object at 0x7fcaf0725000>\n",
      "1 <pexels_api.tools.photo.Photo object at 0x7fcaf0725b10>\n",
      "2 <pexels_api.tools.photo.Photo object at 0x7fcaf0724eb0>\n",
      "3 <pexels_api.tools.photo.Photo object at 0x7fcaf0725ae0>\n",
      "4 <pexels_api.tools.photo.Photo object at 0x7fcaf0725240>\n"
     ]
    }
   ],
   "source": [
    "# optionally, to dissect this more, use enumerate() to iterate over the list and show its index and objects explicitly\n",
    "for index , item in enumerate(photos_punk):\n",
    "    print(index,item)"
   ]
  },
  {
   "cell_type": "code",
   "execution_count": 10,
   "id": "1447877f",
   "metadata": {},
   "outputs": [
    {
     "name": "stdout",
     "output_type": "stream",
     "text": [
      "[[0, <pexels_api.tools.photo.Photo object at 0x7fcaf0725000>], [1, <pexels_api.tools.photo.Photo object at 0x7fcaf0725b10>], [2, <pexels_api.tools.photo.Photo object at 0x7fcaf0724eb0>], [3, <pexels_api.tools.photo.Photo object at 0x7fcaf0725ae0>], [4, <pexels_api.tools.photo.Photo object at 0x7fcaf0725240>]]\n"
     ]
    }
   ],
   "source": [
    "# list comprehension for no reason but practicing python and remembering how lists behave\n",
    "print([list((i, photos_punk[i])) for i in range(len(photos_punk))])"
   ]
  },
  {
   "cell_type": "markdown",
   "id": "20139b4e",
   "metadata": {},
   "source": [
    "## Okay, now read the images\n",
    "\n",
    "So photo objects are not so useful until we can _see_ them! \n",
    "\n",
    "If you try to read Pexel images from URL directly to an image using urllib, you will get a 403 forbidden error. I'm guessing that Pexels has forbidden hotlinking directly to its images (although it's not stated in their terms), as this can be a heavy draw on its server. Else, I'm stuck for some other reason.</br>\n",
    "\n",
    "_So, downloading is one way to go from here. (I'd love to hear about alternatives!)_"
   ]
  },
  {
   "cell_type": "code",
   "execution_count": 25,
   "id": "d528b5ec",
   "metadata": {},
   "outputs": [],
   "source": [
    "# make a function to read an image from its url\n",
    "def url_to_image(url, readFlag=cv2.IMREAD_COLOR):\n",
    "    # download the image, convert it to a NumPy array, and then\n",
    "    # read it into OpenCV format (i.e., decode it)\n",
    "    resp = urlopen(url)  # open a connection to the url\n",
    "    image = np.asarray(bytearray(resp.read()), dtype=\"uint8\")  # convert the raw byte-sequence to a one-dimensional NumPy array, i.e., a long list of pixels\n",
    "    image = cv2.imdecode(image, readFlag)  # reshape the array into a 2D format, assuming 3 components per pixel (Red, Green, and Blue components)\n",
    "\n",
    "    # return the image\n",
    "    return image\n"
   ]
  },
  {
   "cell_type": "code",
   "execution_count": null,
   "id": "510f23fd",
   "metadata": {},
   "outputs": [],
   "source": [
    "# commented out cell because it's returning HTTPError: HTTP Error 403: Forbidden\n",
    "\n",
    "# # loop the five photos\n",
    "# for photo in photos_punk:\n",
    "#     # download the image from its original size URL and display it\n",
    "# #     print(\"downloading %s\" % (photo.original))\n",
    "# #     image = url_to_image(photo.original)  # returns HTTPError: HTTP Error 403: Forbidden\n",
    "#     print(\"downloading %s\" % (photo.url))\n",
    "#     image = url_to_image(photo.url)\n",
    "#     cv2.imshow(\"Image\", image)\n",
    "#     cv2.waitKey(0)"
   ]
  },
  {
   "cell_type": "markdown",
   "id": "f58e310d",
   "metadata": {},
   "source": [
    "### Enter Cloudinary or your favorite media hosting service\n",
    "\n",
    "I recommend downloading cloudinary with pip as I checked and conda did have a version but it looked to be behind pip's a few updates so better to be up to date to capture any bug and security fixes.\n",
    "https://pypi.org/project/cloudinary/<br>\n",
    "\n",
    "You can visit [cloudinary.com](https://cloudinary.com/) to get started for free and get code chunks in python and many other languages also."
   ]
  },
  {
   "cell_type": "code",
   "execution_count": 12,
   "id": "9a0c0e89",
   "metadata": {},
   "outputs": [],
   "source": [
    "# # install cloudinary just once, quiet in the notebook\n",
    "# !pip install cloudinary --quiet"
   ]
  },
  {
   "cell_type": "code",
   "execution_count": 13,
   "id": "946e5161",
   "metadata": {},
   "outputs": [
    {
     "data": {
      "text/plain": [
       "<cloudinary.Config at 0x7fcaf079b3a0>"
      ]
     },
     "execution_count": 13,
     "metadata": {},
     "output_type": "execute_result"
    }
   ],
   "source": [
    "# get conda environment variables\n",
    "CLOUDINARY_API_KEY = os.environ[\"CLOUD_KEY\"]\n",
    "CLOUDINARY_API_SECRET = os.environ[\"CLOUD_SECRET\"]\n",
    "\n",
    "# Import cloudinary\n",
    "from cloudinary.uploader import upload\n",
    "from cloudinary.utils import cloudinary_url\n",
    "import cloudinary  # added to resolve NameError: name 'cloudinary' is not defined on cloudinary.config()\n",
    "\n",
    "# Config\n",
    "cloudinary.config(\n",
    "  cloud_name = \"dtartuanr\",  # if you copy code directly from cloudinary.com this should appear as your username (or replace it manually)\n",
    "  api_key = CLOUDINARY_API_KEY,  # secret; saved as and called from a conda env variable\n",
    "  api_secret = CLOUDINARY_API_SECRET,  # ditto above\n",
    "  secure = True\n",
    ")\n"
   ]
  },
  {
   "cell_type": "code",
   "execution_count": 14,
   "id": "69bd98d8",
   "metadata": {},
   "outputs": [],
   "source": [
    "# # Upload a test with one of the URLs manually, using the last folder of the URL as its public id\n",
    "# upload(\"https://images.pexels.com/photos/426976/pexels-photo-426976.jpeg\"\n",
    "#        , public_id=\"people-inside-dark-room-with-spotlights-426976\"\n",
    "#        # tag as pop_music for retrieving image later\n",
    "#        , tag=\"pop_music\"\n",
    "#        , overwrite = True  # optional; enables overwriting the image upon upload\n",
    "#       )\n",
    "\n",
    "# # Transform\n",
    "# url, options = cloudinary_url(\"people-inside-dark-room-with-spotlights-426976\", width=100, height=150, crop=\"fill\")\n"
   ]
  },
  {
   "cell_type": "markdown",
   "id": "e40d0904",
   "metadata": {},
   "source": [
    "### Go check your cloudinary.com media library for the uploaded image\n",
    "\n",
    "Uploaded images should appear on your Home page."
   ]
  },
  {
   "cell_type": "markdown",
   "id": "ecda753e",
   "metadata": {},
   "source": [
    "### Attribute the source and author in the filenames on Cloudinary\n",
    "\n",
    "Cloudinary doesn't have a separate source or attribution field, or one that I found in my initial research at least, so I've tested what can work in the filename itself and after removing slashes. This seems to be a suitable solution to keep those bits of info with it for experimenting.\n",
    "\n",
    "Here's an example, from: \n",
    "Photographer:  Jacob Morch\n",
    "Photo url:  https://www.pexels.com/photo/people-inside-dark-room-with-spotlights-426976/\n",
    "To Cloudinary public_id:\n",
    "pexels.com-people-inside-dark-room-with-spotlights-426976-Jacob Morch\n",
    "\n",
    "*_I renamed this test upload file on the website directly._"
   ]
  },
  {
   "cell_type": "code",
   "execution_count": 15,
   "id": "8ea70530",
   "metadata": {},
   "outputs": [
    {
     "name": "stdout",
     "output_type": "stream",
     "text": [
      "funky-skull-graffiti-on-locked-roll-down-black-door-953457\n"
     ]
    }
   ],
   "source": [
    "import re  # regex to use regular expressions to modify strings of text\n",
    "\n",
    "# test to make concatenated Cloudinary public_id\n",
    "urls = ['https://www.pexels.com/photo/funky-skull-graffiti-on-locked-roll-down-black-door-953457/']\n",
    "\n",
    "for url in urls:\n",
    "    print(format(*url.split('/')[-2:]))"
   ]
  },
  {
   "cell_type": "code",
   "execution_count": 16,
   "id": "b4bc83c9",
   "metadata": {},
   "outputs": [
    {
     "name": "stdout",
     "output_type": "stream",
     "text": [
      "funky-skull-graffiti-on-locked-roll-down-black-door-953457-William Matt\n",
      "man-sitting-on-guitar-amplifier-playing-electric-guitar-375893-Clem Onojeghuo\n",
      "photo-of-woman-sitting-on-stairs-1989836-Darya Sannikova\n",
      "man-covering-his-mouth-2080736-Cheef\n",
      "woman-in-black-leather-jacket-3598252-Jaime Rivera\n"
     ]
    }
   ],
   "source": [
    "# loop the five punk photos to make concatenated Cloudinary public_id\n",
    "for photo in photos_punk:\n",
    "  # print url\n",
    "  print(('{}-{}'.format(*photo.url.split('/')[-2:])) + photo.photographer)"
   ]
  },
  {
   "cell_type": "code",
   "execution_count": 17,
   "id": "55b3306e",
   "metadata": {},
   "outputs": [
    {
     "name": "stdout",
     "output_type": "stream",
     "text": [
      "['funky-skull-graffiti-on-locked-roll-down-black-door-953457-William Matt', 'man-sitting-on-guitar-amplifier-playing-electric-guitar-375893-Clem Onojeghuo', 'photo-of-woman-sitting-on-stairs-1989836-Darya Sannikova', 'man-covering-his-mouth-2080736-Cheef', 'woman-in-black-leather-jacket-3598252-Jaime Rivera']\n"
     ]
    }
   ],
   "source": [
    "# output of for loop to a new list for punk photos\n",
    "photos_punk_ids = []\n",
    "for photo in photos_punk:\n",
    "  # print url\n",
    "  x = ('{}-{}'.format(*photo.url.split('/')[-2:])) + photo.photographer\n",
    "  photos_punk_ids.append(x)\n",
    "\n",
    "print(photos_punk_ids)"
   ]
  },
  {
   "cell_type": "code",
   "execution_count": 18,
   "id": "c2a1756e",
   "metadata": {},
   "outputs": [
    {
     "name": "stdout",
     "output_type": "stream",
     "text": [
      "['people-inside-dark-room-with-spotlights-426976-Jacob Morch', 'man-playing-pioneer-dj-turntable-219101-mali maeder', 'man-playing-guitar-811838-Edward Eyer', 'photo-of-man-holding-microphone-949274-Hannah Gibbs', 'people-performing-on-stage-442540-Lucas Allmann']\n"
     ]
    }
   ],
   "source": [
    "# output of for loop to a new list for pop photos\n",
    "photos_pop_ids = []\n",
    "for photo in photos_pop:\n",
    "  # print url\n",
    "  x = ('{}-{}'.format(*photo.url.split('/')[-2:])) + photo.photographer\n",
    "  photos_pop_ids.append(x)\n",
    "\n",
    "print(photos_pop_ids)"
   ]
  },
  {
   "cell_type": "markdown",
   "id": "f8b669ca",
   "metadata": {},
   "source": [
    "### Upload as a batch to Cloudinary\n",
    "\n",
    "Upon further research, I'd add some details in this step to move this from experiment into a production workflow.\n",
    "- tagging, (e.g., I go back into the Cloudinary console and add \"punk\" or \"pop-music\" manually as tags)\n",
    "- alt text\n",
    "- source URLs, and\n",
    "- maybe also get fancy and upload and organize in subfolders (if that would make the rest of the process cleaner, or see what the tags alone facilitate).\n",
    "\n",
    "You can read more here about what's possible in the Python SDK: https://cloudinary.com/documentation/django_integration"
   ]
  },
  {
   "cell_type": "code",
   "execution_count": 19,
   "id": "a713c41e",
   "metadata": {},
   "outputs": [],
   "source": [
    "# # upload punk photos as a for loop\n",
    "# for photo in photos_punk:\n",
    "#   # upload from url in list\n",
    "#   upload(photo.original\n",
    "#          , public_id=('{}-{}'.format(*photo.url.split('/')[-2:])) + photo.photographer\n",
    "#          , tag=\"punk\"\n",
    "#          , overwrite=True\n",
    "#         )\n",
    "\n",
    "# # Transform\n",
    "# url, options = cloudinary_url(('{}-{}'.format(*photo.url.split('/')[-2:])) + photo.photographer, width=100, height=150, crop=\"fill\")\n"
   ]
  },
  {
   "cell_type": "code",
   "execution_count": 20,
   "id": "a7e4dff0",
   "metadata": {},
   "outputs": [],
   "source": [
    "# # upload pop photos as a for loop\n",
    "# for photo in photos_pop:\n",
    "#   # upload from url in list\n",
    "#   upload(photo.original\n",
    "#          , public_id=('{}-{}'.format(*photo.url.split('/')[-2:])) + photo.photographer\n",
    "#          , tag=\"pop_music\"\n",
    "#          , overwrite=True\n",
    "#         )\n",
    "\n",
    "# # Transform for now to a uniform layout size (some originated in portrait dimensions or landscape, etc., but this won't distort them)\n",
    "# url, options = cloudinary_url(('{}-{}'.format(*photo.url.split('/')[-2:])) + photo.photographer, width=100, height=150, crop=\"fill\")\n"
   ]
  },
  {
   "cell_type": "markdown",
   "id": "430a06d1",
   "metadata": {},
   "source": [
    "#### Read more about Cloudinary Transformations\n",
    "\n",
    "https://cloudinary.com/documentation/django_image_manipulation"
   ]
  },
  {
   "cell_type": "markdown",
   "id": "834dbeb6",
   "metadata": {},
   "source": [
    "#### Errors you may encounter\n",
    "\n",
    "When uploading my first looped punk photos dataset to Cloudinary, I received an \"Error: File size too large. Got 14403950. Maximum is 10485760.\" \n",
    "\n",
    "When I went to Cloudinary and checked the upload results, 4 of the 5 images had uploaded. Strangely enough, the one that did not seem to upload this time was the same photo that uploaded in my test successfully when I uploaded it individually with its url as a string directly. \n",
    "\n",
    "Maybe there's a way to filter the search for photos through the Pexels API by a maximum file size in the first place... I did not go down that research slide this go around...\n",
    "\n",
    "So, I recommend trying again or upload what you need to one by one. There's work to be done to try to automate this from start to finish, but as an experiment, just get to the good stuff!\n",
    "\n",
    "Since I had not yet deleted my original test upload, I had 5 punk images on Cloudinary. \n",
    "\n",
    "The looped pop photos uploaded with no errors, and...\n",
    "\n",
    "Then I went back to the Pexels punk link for the photo that was too large file size, and I manually downloaded the \"Large\" option locally instead of the \"Original\" option; I uploaded that manually to Cloudinary and tagged it. So...\n",
    "\n",
    "Success!\n",
    "\n",
    "As always, you could test and refine that workflow in a future sprint if it's worthwhile. Probably limiting the # of photos you try uploading at a time would be a constraint (plus your budget there, once you reach the free max!)."
   ]
  },
  {
   "cell_type": "markdown",
   "id": "9c9d9830",
   "metadata": {},
   "source": [
    "## F'ing show the photos already... I'm bored!\n",
    "\n",
    "example of what the URLs look like now in Cloudinary:</br>\n",
    "https://res.cloudinary.com/dtartuanr/image/upload/v1676989379/photo-of-woman-sitting-on-stairs-1989836-Darya%20Sannikova.jpg\n",
    "\n",
    "See this resource about calling Cloudinary images by tag as a JSON list: </br>\n",
    "https://cloudinary.com/documentation/advanced_url_delivery_options"
   ]
  },
  {
   "cell_type": "code",
   "execution_count": 21,
   "id": "a42ba404",
   "metadata": {},
   "outputs": [
    {
     "data": {
      "text/plain": [
       "('https://res.cloudinary.com/dtartuanr/image/list/punk.json', {})"
      ]
     },
     "execution_count": 21,
     "metadata": {},
     "output_type": "execute_result"
    }
   ],
   "source": [
    "# calling a list of URLs with images with the punk tag\n",
    "# punk = \"https://res.cloudinary.com/dtartuanr/image/list/punk.json\"\n",
    "cloudinary_url(\"punk.json\", type=\"list\")"
   ]
  },
  {
   "cell_type": "code",
   "execution_count": 24,
   "id": "45832de2",
   "metadata": {},
   "outputs": [
    {
     "data": {
      "text/plain": [
       "('https://res.cloudinary.com/dtartuanr/image/list/pop_music.json', {})"
      ]
     },
     "execution_count": 24,
     "metadata": {},
     "output_type": "execute_result"
    }
   ],
   "source": [
    "# make a tag list url for pop_music images\n",
    "cloudinary_url(\"pop_music.json\", type=\"list\")"
   ]
  },
  {
   "cell_type": "markdown",
   "id": "e8d46b71",
   "metadata": {},
   "source": [
    "_*Note: if you paste these url into a browser window you'll see the JSON result._\n",
    "\n",
    "Or you can view the JSON data response in python here..."
   ]
  },
  {
   "cell_type": "code",
   "execution_count": 28,
   "id": "4738d65d",
   "metadata": {},
   "outputs": [
    {
     "name": "stdout",
     "output_type": "stream",
     "text": [
      "{'resources': [{'public_id': 'woman-in-black-leather-jacket-3598252-jaime-rivera-3598252_lut8cr', 'version': 1676995357, 'format': 'jpg', 'width': 1920, 'height': 2880, 'type': 'upload', 'created_at': '2023-02-21T16:02:37Z', 'context': {'custom': {'alt': 'woman in black leather jacket'}}}, {'public_id': 'man-covering-his-mouth-2080736-Cheef', 'version': 1676989380, 'format': 'jpg', 'width': 3376, 'height': 3376, 'type': 'upload', 'created_at': '2023-02-21T14:23:00Z', 'context': {'custom': {'alt': 'man covering his mouth and wearing a black leather jacket'}}}, {'public_id': 'photo-of-woman-sitting-on-stairs-1989836-Darya Sannikova', 'version': 1676989379, 'format': 'jpg', 'width': 2001, 'height': 3017, 'type': 'upload', 'created_at': '2023-02-21T14:22:59Z', 'context': {'custom': {'alt': 'photo of woman sitting on stairs with a globe'}}}, {'public_id': 'man-sitting-on-guitar-amplifier-playing-electric-guitar-375893-Clem Onojeghuo', 'version': 1676989377, 'format': 'jpg', 'width': 2000, 'height': 1252, 'type': 'upload', 'created_at': '2023-02-21T14:22:57Z', 'context': {'custom': {'alt': 'man sitting on guitar amplifier playing electric guitar'}}}, {'public_id': 'funky-skull-graffiti-on-locked-roll-down-black-door-953457-William Matt', 'version': 1676989377, 'format': 'jpg', 'width': 2985, 'height': 3731, 'type': 'upload', 'created_at': '2023-02-21T14:22:57Z', 'context': {'custom': {'alt': 'funky skull graffiti on locked roll down black door'}}}], 'updated_at': '2023-02-21T16:31:24Z'}\n"
     ]
    },
    {
     "data": {
      "text/plain": [
       "dict_keys(['resources', 'updated_at'])"
      ]
     },
     "execution_count": 28,
     "metadata": {},
     "output_type": "execute_result"
    }
   ],
   "source": [
    "# unpack the json to see what you're working with\n",
    "import json\n",
    "\n",
    "# store the URL in url as \n",
    "# parameter for urlopen\n",
    "url = 'https://res.cloudinary.com/dtartuanr/image/list/punk.json'\n",
    "  \n",
    "# store the response of URL\n",
    "response = urlopen(url)\n",
    "  \n",
    "# storing the JSON response \n",
    "# from url in data\n",
    "punk_json = json.loads(response.read())\n",
    "  \n",
    "# print the json response\n",
    "print(punk_json)\n",
    " \n",
    "# here's how you'd read a JSON file\n",
    "# with open('https://res.cloudinary.com/dtartuanr/image/list/punk.json') as f:\n",
    "#     punk_json = json.load(f)\n",
    "type(punk_json)\n",
    "# Output: dict\n",
    "punk_json.keys()"
   ]
  },
  {
   "cell_type": "code",
   "execution_count": 30,
   "id": "e94bf8a5",
   "metadata": {},
   "outputs": [
    {
     "name": "stdout",
     "output_type": "stream",
     "text": [
      "{\n",
      "  \"resources\": [\n",
      "    {\n",
      "      \"public_id\": \"woman-in-black-leather-jacket-3598252-jaime-rivera-3598252_lut8cr\",\n",
      "      \"version\": 1676995357,\n",
      "      \"format\": \"jpg\",\n",
      "      \"width\": 1920,\n",
      "      \"height\": 2880,\n",
      "      \"type\": \"upload\",\n",
      "      \"created_at\": \"2023-02-21T16:02:37Z\",\n",
      "      \"context\": {\n",
      "        \"custom\": {\n",
      "          \"alt\": \"woman in black leather jacket\"\n",
      "        }\n",
      "      }\n",
      "    },\n",
      "    {\n",
      "      \"public_id\": \"man-covering-his-mouth-2080736-Cheef\",\n",
      "      \"version\": 1676989380,\n",
      "      \"format\": \"jpg\",\n",
      "      \"width\": 3376,\n",
      "      \"height\": 3376,\n",
      "      \"type\": \"upload\",\n",
      "      \"created_at\": \"2023-02-21T14:23:00Z\",\n",
      "      \"context\": {\n",
      "        \"custom\": {\n",
      "          \"alt\": \"man covering his mouth and wearing a black leather jacket\"\n",
      "        }\n",
      "      }\n",
      "    },\n",
      "    {\n",
      "      \"public_id\": \"photo-of-woman-sitting-on-stairs-1989836-Darya Sannikova\",\n",
      "      \"version\": 1676989379,\n",
      "      \"format\": \"jpg\",\n",
      "      \"width\": 2001,\n",
      "      \"height\": 3017,\n",
      "      \"type\": \"upload\",\n",
      "      \"created_at\": \"2023-02-21T14:22:59Z\",\n",
      "      \"context\": {\n",
      "        \"custom\": {\n",
      "          \"alt\": \"photo of woman sitting on stairs with a globe\"\n",
      "        }\n",
      "      }\n",
      "    },\n",
      "    {\n",
      "      \"public_id\": \"man-sitting-on-guitar-amplifier-playing-electric-guitar-375893-Clem Onojeghuo\",\n",
      "      \"version\": 1676989377,\n",
      "      \"format\": \"jpg\",\n",
      "      \"width\": 2000,\n",
      "      \"height\": 1252,\n",
      "      \"type\": \"upload\",\n",
      "      \"created_at\": \"2023-02-21T14:22:57Z\",\n",
      "      \"context\": {\n",
      "        \"custom\": {\n",
      "          \"alt\": \"man sitting on guitar amplifier playing electric guitar\"\n",
      "        }\n",
      "      }\n",
      "    },\n",
      "    {\n",
      "      \"public_id\": \"funky-skull-graffiti-on-locked-roll-down-black-door-953457-William Matt\",\n",
      "      \"version\": 1676989377,\n",
      "      \"format\": \"jpg\",\n",
      "      \"width\": 2985,\n",
      "      \"height\": 3731,\n",
      "      \"type\": \"upload\",\n",
      "      \"created_at\": \"2023-02-21T14:22:57Z\",\n",
      "      \"context\": {\n",
      "        \"custom\": {\n",
      "          \"alt\": \"funky skull graffiti on locked roll down black door\"\n",
      "        }\n",
      "      }\n",
      "    }\n",
      "  ],\n",
      "  \"updated_at\": \"2023-02-21T16:31:24Z\"\n",
      "}\n"
     ]
    }
   ],
   "source": [
    "# pretty print the list of punk image URL resources\n",
    "# parsed_json = json.loads(punk_json)  # in this scenario, this step is already taken care of\n",
    "pretty_json = json.dumps(punk_json, indent=2)\n",
    "\n",
    "print(pretty_json)"
   ]
  },
  {
   "cell_type": "markdown",
   "id": "880cacaa",
   "metadata": {},
   "source": [
    "#### Remember what a single Cloudinary URL looks like for a resource in this list\n",
    "\n",
    "https://res.cloudinary.com/dtartuanr/image/upload/v1676989379/photo-of-woman-sitting-on-stairs-1989836-Darya%20Sannikova.jpg"
   ]
  },
  {
   "cell_type": "code",
   "execution_count": null,
   "id": "cbd5a20d",
   "metadata": {},
   "outputs": [
    {
     "name": "stdout",
     "output_type": "stream",
     "text": [
      "downloading photo-of-woman-sitting-on-stairs-1989836-Darya Sannikova\n"
     ]
    }
   ],
   "source": [
    "# download the image from its URL and display it\n",
    "print(\"downloading %s\" % (\"photo-of-woman-sitting-on-stairs-1989836-Darya Sannikova\"))\n",
    "image = url_to_image(\"https://res.cloudinary.com/dtartuanr/image/upload/v1676989379/photo-of-woman-sitting-on-stairs-1989836-Darya%20Sannikova.jpg\")\n",
    "cv2.imshow(\"Image\", image)\n",
    "cv2.waitKey(0)"
   ]
  },
  {
   "cell_type": "markdown",
   "id": "20112863",
   "metadata": {},
   "source": [
    "## Scratch area for reference code"
   ]
  },
  {
   "cell_type": "code",
   "execution_count": 22,
   "id": "f0081bc3",
   "metadata": {},
   "outputs": [],
   "source": [
    "# # read image as a numpy array from file path\n",
    "# img_arr = img.imread('/content/sample_image.jpg')\n",
    "# print(img_arr.shape)"
   ]
  }
 ],
 "metadata": {
  "kernelspec": {
   "display_name": "color_env",
   "language": "python",
   "name": "color_env"
  },
  "language_info": {
   "codemirror_mode": {
    "name": "ipython",
    "version": 3
   },
   "file_extension": ".py",
   "mimetype": "text/x-python",
   "name": "python",
   "nbconvert_exporter": "python",
   "pygments_lexer": "ipython3",
   "version": "3.10.9"
  }
 },
 "nbformat": 4,
 "nbformat_minor": 5
}
