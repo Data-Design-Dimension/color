{
 "cells": [
  {
   "cell_type": "markdown",
   "id": "e1d9d18c",
   "metadata": {},
   "source": [
    "# Color Quantization\n",
    "\n",
    "exploring images with OpenCV (Open Source Computer Vision) library\n",
    "\n",
    "challenge: working with TikTok profile images"
   ]
  },
  {
   "cell_type": "code",
   "execution_count": 1,
   "id": "7564567c",
   "metadata": {},
   "outputs": [],
   "source": [
    "import cv2\n",
    "import numpy as np\n",
    "import matplotlib.pyplot as plt"
   ]
  },
  {
   "cell_type": "code",
   "execution_count": null,
   "id": "0c2f0152",
   "metadata": {},
   "outputs": [],
   "source": []
  },
  {
   "cell_type": "code",
   "execution_count": null,
   "id": "f0081bc3",
   "metadata": {},
   "outputs": [],
   "source": [
    "# read image as a numpy array\n",
    "img_arr = img.imread('/content/sample_image.jpg')\n",
    "print(img_arr.shape)"
   ]
  }
 ],
 "metadata": {
  "kernelspec": {
   "display_name": "color_env",
   "language": "python",
   "name": "color_env"
  },
  "language_info": {
   "codemirror_mode": {
    "name": "ipython",
    "version": 3
   },
   "file_extension": ".py",
   "mimetype": "text/x-python",
   "name": "python",
   "nbconvert_exporter": "python",
   "pygments_lexer": "ipython3",
   "version": "3.10.9"
  }
 },
 "nbformat": 4,
 "nbformat_minor": 5
}
