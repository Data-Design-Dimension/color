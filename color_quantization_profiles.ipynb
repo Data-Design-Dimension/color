{
 "cells": [
  {
   "cell_type": "markdown",
   "id": "e1d9d18c",
   "metadata": {},
   "source": [
    "# Color Quantization\n",
    "\n",
    "exploring images with OpenCV (Open Source Computer Vision) library\n",
    "\n",
    "__challenge:__ working with images from a RESTful JSON API</br>\n",
    "<a href=\"https://www.pexels.com\">Photos provided by Pexels</a>\n",
    "\n",
    "#### references: \n",
    "https://github.com/AguilarLagunasArturo/pexels-api\n",
    "https://www.pexels.com/api/documentation"
   ]
  },
  {
   "cell_type": "code",
   "execution_count": null,
   "id": "0a948e90",
   "metadata": {},
   "outputs": [],
   "source": [
    "# # install Pexels API v1 with Python once only, with pip because it's not hosted on anaconda, and quietly in the notebook\n",
    "# !pip install pexels-api --quiet"
   ]
  },
  {
   "cell_type": "code",
   "execution_count": 3,
   "id": "59062c49",
   "metadata": {},
   "outputs": [],
   "source": [
    "# # optionally, check that your environment variable(s) are active with the env\n",
    "# !conda env config vars list"
   ]
  },
  {
   "cell_type": "code",
   "execution_count": 4,
   "id": "7564567c",
   "metadata": {},
   "outputs": [],
   "source": [
    "import os\n",
    "import cv2\n",
    "import numpy as np\n",
    "import matplotlib.pyplot as plt"
   ]
  },
  {
   "cell_type": "code",
   "execution_count": 6,
   "id": "0c2f0152",
   "metadata": {},
   "outputs": [],
   "source": [
    "# import API class from pexels_api package\n",
    "from pexels_api import API\n",
    "# load your Pexels API key from a conda variable stored with the activated conda environment\n",
    "PEXELS_API_KEY = os.environ[\"MY_KEY\"]\n",
    "# Create API object\n",
    "api = API(PEXELS_API_KEY)"
   ]
  },
  {
   "cell_type": "code",
   "execution_count": 20,
   "id": "d1505a51",
   "metadata": {},
   "outputs": [
    {
     "name": "stdout",
     "output_type": "stream",
     "text": [
      "Photographer:  William Matt\n",
      "Photo url:  https://www.pexels.com/photo/funky-skull-graffiti-on-locked-roll-down-black-door-953457/\n",
      "Photo original size:  https://images.pexels.com/photos/953457/pexels-photo-953457.jpeg\n",
      "Photographer:  Clem Onojeghuo\n",
      "Photo url:  https://www.pexels.com/photo/man-sitting-on-guitar-amplifier-playing-electric-guitar-375893/\n",
      "Photo original size:  https://images.pexels.com/photos/375893/pexels-photo-375893.jpeg\n",
      "Photographer:  Darya Sannikova\n",
      "Photo url:  https://www.pexels.com/photo/photo-of-woman-sitting-on-stairs-1989836/\n",
      "Photo original size:  https://images.pexels.com/photos/1989836/pexels-photo-1989836.jpeg\n",
      "Photographer:  Cheef\n",
      "Photo url:  https://www.pexels.com/photo/man-covering-his-mouth-2080736/\n",
      "Photo original size:  https://images.pexels.com/photos/2080736/pexels-photo-2080736.jpeg\n",
      "Photographer:  Jaime Rivera\n",
      "Photo url:  https://www.pexels.com/photo/woman-in-black-leather-jacket-3598252/\n",
      "Photo original size:  https://images.pexels.com/photos/3598252/pexels-photo-3598252.jpeg\n"
     ]
    }
   ],
   "source": [
    "# search five 'punk' photos\n",
    "api.search('punk', page=1, results_per_page=5)\n",
    "# get photo entries (a list of photo objects)\n",
    "photos_punk = api.get_entries()\n",
    "# loop the five photos\n",
    "for photo in photos_punk:\n",
    "  # print photographer\n",
    "  print('Photographer: ', photo.photographer)\n",
    "  # print url\n",
    "  print('Photo url: ', photo.url)\n",
    "  # print original size url\n",
    "  print('Photo original size: ', photo.original)"
   ]
  },
  {
   "cell_type": "code",
   "execution_count": 22,
   "id": "615d3504",
   "metadata": {},
   "outputs": [
    {
     "name": "stdout",
     "output_type": "stream",
     "text": [
      "Photographer:  Jacob Morch\n",
      "Photo url:  https://www.pexels.com/photo/people-inside-dark-room-with-spotlights-426976/\n",
      "Photo original size:  https://images.pexels.com/photos/426976/pexels-photo-426976.jpeg\n",
      "Photographer:  mali maeder\n",
      "Photo url:  https://www.pexels.com/photo/man-playing-pioneer-dj-turntable-219101/\n",
      "Photo original size:  https://images.pexels.com/photos/219101/pexels-photo-219101.jpeg\n",
      "Photographer:  Edward Eyer\n",
      "Photo url:  https://www.pexels.com/photo/man-playing-guitar-811838/\n",
      "Photo original size:  https://images.pexels.com/photos/811838/pexels-photo-811838.jpeg\n",
      "Photographer:  Hannah Gibbs\n",
      "Photo url:  https://www.pexels.com/photo/photo-of-man-holding-microphone-949274/\n",
      "Photo original size:  https://images.pexels.com/photos/949274/pexels-photo-949274.jpeg\n",
      "Photographer:  Lucas Allmann\n",
      "Photo url:  https://www.pexels.com/photo/people-performing-on-stage-442540/\n",
      "Photo original size:  https://images.pexels.com/photos/442540/pexels-photo-442540.jpeg\n"
     ]
    }
   ],
   "source": [
    "# search five 'pop' photos; explicitly include 'music' to avoid bubbles and other images that 'pop'\n",
    "api.search('pop music', page=1, results_per_page=5)\n",
    "# get photo entries (a list of photo objects)\n",
    "photos_pop = api.get_entries()\n",
    "# loop the five photos\n",
    "for photo in photos_pop:\n",
    "  # print photographer\n",
    "  print('Photographer: ', photo.photographer)\n",
    "  # print url\n",
    "  print('Photo url: ', photo.url)\n",
    "  # print original size url\n",
    "  print('Photo original size: ', photo.original)"
   ]
  },
  {
   "cell_type": "code",
   "execution_count": 15,
   "id": "42986a1e",
   "metadata": {},
   "outputs": [
    {
     "data": {
      "text/plain": [
       "[<pexels_api.tools.photo.Photo at 0x7f96003c5600>,\n",
       " <pexels_api.tools.photo.Photo at 0x7f96003c5360>,\n",
       " <pexels_api.tools.photo.Photo at 0x7f96003c5270>,\n",
       " <pexels_api.tools.photo.Photo at 0x7f96003c60e0>,\n",
       " <pexels_api.tools.photo.Photo at 0x7f96003c5540>]"
      ]
     },
     "execution_count": 15,
     "metadata": {},
     "output_type": "execute_result"
    }
   ],
   "source": [
    "photos"
   ]
  },
  {
   "cell_type": "code",
   "execution_count": null,
   "id": "df5710bc",
   "metadata": {},
   "outputs": [],
   "source": []
  },
  {
   "cell_type": "code",
   "execution_count": null,
   "id": "f0081bc3",
   "metadata": {},
   "outputs": [],
   "source": [
    "# read image as a numpy array\n",
    "img_arr = img.imread('/content/sample_image.jpg')\n",
    "print(img_arr.shape)"
   ]
  }
 ],
 "metadata": {
  "kernelspec": {
   "display_name": "color_env",
   "language": "python",
   "name": "color_env"
  },
  "language_info": {
   "codemirror_mode": {
    "name": "ipython",
    "version": 3
   },
   "file_extension": ".py",
   "mimetype": "text/x-python",
   "name": "python",
   "nbconvert_exporter": "python",
   "pygments_lexer": "ipython3",
   "version": "3.10.9"
  }
 },
 "nbformat": 4,
 "nbformat_minor": 5
}
